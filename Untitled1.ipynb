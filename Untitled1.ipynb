{
  "nbformat": 4,
  "nbformat_minor": 0,
  "metadata": {
    "colab": {
      "name": "Untitled1.ipynb",
      "provenance": [],
      "mount_file_id": "1RkMBHRr9W0KxMIsdw74FOmVjzmd1lPCP",
      "authorship_tag": "ABX9TyMQ0pmWQGQc14q2b6W7qfP3",
      "include_colab_link": true
    },
    "kernelspec": {
      "name": "python3",
      "display_name": "Python 3"
    },
    "language_info": {
      "name": "python"
    },
    "accelerator": "GPU"
  },
  "cells": [
    {
      "cell_type": "markdown",
      "metadata": {
        "id": "view-in-github",
        "colab_type": "text"
      },
      "source": [
        "<a href=\"https://colab.research.google.com/github/wlgus-3/wlgus-3/blob/main/Untitled1.ipynb\" target=\"_parent\"><img src=\"https://colab.research.google.com/assets/colab-badge.svg\" alt=\"Open In Colab\"/></a>"
      ]
    },
    {
      "cell_type": "code",
      "metadata": {
        "colab": {
          "base_uri": "https://localhost:8080/"
        },
        "id": "8qrYjBalrOJe",
        "outputId": "553e90ac-5872-41a3-f674-b4f113eac348"
      },
      "source": [
        "try:\n",
        "  # This %tensorflow_version magic only works in Colab.\n",
        "  %tensorflow_version 1.x\n",
        "except Exception:\n",
        "  pass\n",
        "\n",
        "# For your non-Colab code, be sure you have tensorflow==1.15\n",
        "import tensorflow as tf\n",
        "assert tf.__version__.startswith('1')\n",
        "print(tf.__version__)\n"
      ],
      "execution_count": 1,
      "outputs": [
        {
          "output_type": "stream",
          "text": [
            "TensorFlow 1.x selected.\n",
            "1.15.2\n"
          ],
          "name": "stdout"
        }
      ]
    },
    {
      "cell_type": "code",
      "metadata": {
        "colab": {
          "base_uri": "https://localhost:8080/",
          "height": 35
        },
        "id": "Y-utGiXpxpaf",
        "outputId": "a49e60d6-60b8-4e97-9e59-ec10b7899427"
      },
      "source": [
        "tf.__version__"
      ],
      "execution_count": 3,
      "outputs": [
        {
          "output_type": "execute_result",
          "data": {
            "application/vnd.google.colaboratory.intrinsic+json": {
              "type": "string"
            },
            "text/plain": [
              "'1.15.2'"
            ]
          },
          "metadata": {
            "tags": []
          },
          "execution_count": 3
        }
      ]
    },
    {
      "cell_type": "code",
      "metadata": {
        "colab": {
          "base_uri": "https://localhost:8080/"
        },
        "id": "5QQ9SxIZx0P2",
        "outputId": "69a7bc99-576f-4dab-cb5f-a79afb53be98"
      },
      "source": [
        "hello= tf.constant(\"Hello World\")\n",
        "sess=tf.Session()\n",
        "print(sess.run(hello))\n"
      ],
      "execution_count": 4,
      "outputs": [
        {
          "output_type": "stream",
          "text": [
            "b'Hello World'\n"
          ],
          "name": "stdout"
        }
      ]
    },
    {
      "cell_type": "code",
      "metadata": {
        "colab": {
          "base_uri": "https://localhost:8080/"
        },
        "id": "tG6xof6Vyh-v",
        "outputId": "a4159ac2-467e-4f4c-a46c-083a0d5f61cc"
      },
      "source": [
        "hello= tf.constant(\"Hello TensorFlow!\")\n",
        "sess=tf.Session()\n",
        "print(sess.run(hello))\n"
      ],
      "execution_count": 5,
      "outputs": [
        {
          "output_type": "stream",
          "text": [
            "b'Hello TensorFlow!'\n"
          ],
          "name": "stdout"
        }
      ]
    },
    {
      "cell_type": "code",
      "metadata": {
        "id": "iHue4LUby2et"
      },
      "source": [
        "node1=tf.constant(3.0)\n",
        "node2=tf.constant(4.0)\n",
        "node3=tf.add(node1,node2)"
      ],
      "execution_count": 8,
      "outputs": []
    },
    {
      "cell_type": "code",
      "metadata": {
        "colab": {
          "base_uri": "https://localhost:8080/"
        },
        "id": "FN4ZTEdWz4qc",
        "outputId": "09b94ffb-6f93-4ea6-c34e-fae4835f0e8d"
      },
      "source": [
        "sess=tf.Session()\n",
        "print(\"sess.run(node1,node2):\",sess.run([node1,node2]))\n",
        "print(\"sess.run(node3):\"),sess.run([node3])\n"
      ],
      "execution_count": 9,
      "outputs": [
        {
          "output_type": "stream",
          "text": [
            "sess.run(node1,node2): [3.0, 4.0]\n",
            "sess.run(node3):\n"
          ],
          "name": "stdout"
        },
        {
          "output_type": "execute_result",
          "data": {
            "text/plain": [
              "(None, [7.0])"
            ]
          },
          "metadata": {
            "tags": []
          },
          "execution_count": 9
        }
      ]
    },
    {
      "cell_type": "code",
      "metadata": {
        "colab": {
          "base_uri": "https://localhost:8080/"
        },
        "id": "ywVpWjpB4yW3",
        "outputId": "bc5b6a32-b9e7-4802-9236-cd53cbb26539"
      },
      "source": [
        "a=tf.placeholder(tf.float32)\n",
        "b=tf.placeholder(tf.float32)\n",
        "adder_node =a+b\n",
        "\n",
        "print(sess.run(adder_node,feed_dict={a: 3, b : 4.5}))\n",
        "print(sess.run(adder_node,feed_dict={a: [1,3], b : [2,4]}))\n"
      ],
      "execution_count": 14,
      "outputs": [
        {
          "output_type": "stream",
          "text": [
            "7.5\n",
            "[3. 7.]\n"
          ],
          "name": "stdout"
        }
      ]
    },
    {
      "cell_type": "code",
      "metadata": {
        "id": "PTb-ryr5IyCK"
      },
      "source": [
        "# Lab 2 Linear Regression\n",
        "import tensorflow as tf\n",
        "tf.set_random_seed(777)  # for reproducibility\n",
        "\n",
        "# X and Y data\n",
        "x_train = [1, 2, 3]\n",
        "y_train = [1, 2, 3]\n",
        "\n",
        "# Try to find values for W and b to compute y_data = x_data * W + b\n",
        "# We know that W should be 1 and b should be 0\n",
        "# But let TensorFlow figure it out\n",
        "W = tf.Variable(tf.random_normal([1]), name=\"weight\")\n",
        "b = tf.Variable(tf.random_normal([1]), name=\"bias\")\n",
        "##########                  여기 [1]은 값이 하나인 array 를 뜻함\n",
        "########## tf.Variable 은 트레이너블 한 배리어블이다.\n",
        "\n",
        "# Our hypothesis XW+b\n",
        "hypothesis = x_train * W + b\n",
        "\n",
        "# cost/loss function\n",
        "cost = tf.reduce_mean(tf.square(hypothesis - y_train))\n",
        "########## 코스트 공식 그대로 코딩으로 옮긴 것\n",
        "\n",
        "\n",
        "# optimizer\n",
        "train = tf.train.GradientDescentOptimizer(learning_rate=0.01).minimize(cost)\n",
        "########## 옵티마이저를 정의 하고 옵티마이저를 미니마이즈 하라. \n",
        "##########optimizer = tf.train.GradientDescentOptimizer(learning_rate=0.01)\n",
        "\n",
        "\n",
        "# Launch the graph in a session.\n",
        "with tf.Session() as sess:\n",
        "    # Initializes global variables in the graph.\n",
        "    sess.run(tf.global_variables_initializer())\n",
        "########## 배리어블 실행 시키기 전에 반드시 global_varianbles_initializer() 실행해야함\t\n",
        "    # Fit the line\n",
        "    for step in range(2001):\n",
        "        _, cost_val, W_val, b_val = sess.run([train, cost, W, b])\n",
        "\n",
        "        if step % 20 == 0:\n",
        "            print(step, cost_val, W_val, b_val)"
      ],
      "execution_count": null,
      "outputs": []
    },
    {
      "cell_type": "code",
      "metadata": {
        "id": "tXgPHJkUTEFP"
      },
      "source": [
        "import numpy as np\n",
        "\n",
        "x = np.array([1,2,3])\n",
        "w = np.array([1.1])\n",
        "y_hat = np.array([1,2,3])\n",
        "\n"
      ],
      "execution_count": 17,
      "outputs": []
    },
    {
      "cell_type": "code",
      "metadata": {
        "colab": {
          "base_uri": "https://localhost:8080/"
        },
        "id": "JqLZgd_OeRIm",
        "outputId": "fd652bd5-dbc8-4fb8-d22a-9dedceca1378"
      },
      "source": [
        "!nvidia-smi"
      ],
      "execution_count": 1,
      "outputs": [
        {
          "output_type": "stream",
          "text": [
            "Fri Apr  2 16:45:12 2021       \n",
            "+-----------------------------------------------------------------------------+\n",
            "| NVIDIA-SMI 460.67       Driver Version: 460.32.03    CUDA Version: 11.2     |\n",
            "|-------------------------------+----------------------+----------------------+\n",
            "| GPU  Name        Persistence-M| Bus-Id        Disp.A | Volatile Uncorr. ECC |\n",
            "| Fan  Temp  Perf  Pwr:Usage/Cap|         Memory-Usage | GPU-Util  Compute M. |\n",
            "|                               |                      |               MIG M. |\n",
            "|===============================+======================+======================|\n",
            "|   0  Tesla T4            Off  | 00000000:00:04.0 Off |                    0 |\n",
            "| N/A   42C    P8     9W /  70W |      0MiB / 15109MiB |      0%      Default |\n",
            "|                               |                      |                  N/A |\n",
            "+-------------------------------+----------------------+----------------------+\n",
            "                                                                               \n",
            "+-----------------------------------------------------------------------------+\n",
            "| Processes:                                                                  |\n",
            "|  GPU   GI   CI        PID   Type   Process name                  GPU Memory |\n",
            "|        ID   ID                                                   Usage      |\n",
            "|=============================================================================|\n",
            "|  No running processes found                                                 |\n",
            "+-----------------------------------------------------------------------------+\n"
          ],
          "name": "stdout"
        }
      ]
    },
    {
      "cell_type": "code",
      "metadata": {
        "id": "aL-BJqBTeXKt"
      },
      "source": [
        ""
      ],
      "execution_count": null,
      "outputs": []
    }
  ]
}